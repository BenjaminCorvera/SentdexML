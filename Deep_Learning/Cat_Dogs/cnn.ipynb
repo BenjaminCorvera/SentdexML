{
 "cells": [
  {
   "cell_type": "code",
   "execution_count": 1,
   "metadata": {},
   "outputs": [],
   "source": [
    "import tensorflow as tf\n",
    "import numpy as np\n",
    "import time\n",
    "from tensorflow.keras.models import Sequential\n",
    "from tensorflow.keras.layers import Dense, Dropout, Activation, Flatten, Conv2D,MaxPool2D\n",
    "from tensorflow.keras.callbacks import TensorBoard"
   ]
  },
  {
   "cell_type": "code",
   "execution_count": 2,
   "metadata": {},
   "outputs": [
    {
     "name": "stdout",
     "output_type": "stream",
     "text": [
      "Cats-vs-dog-cnn-64x2-1635195332\n"
     ]
    }
   ],
   "source": [
    "NAME = f\"Cats-vs-dog-cnn-64x2-{int(time.time())}\"\n",
    "print(NAME)"
   ]
  },
  {
   "cell_type": "code",
   "execution_count": 3,
   "metadata": {},
   "outputs": [
    {
     "name": "stderr",
     "output_type": "stream",
     "text": [
      "2021-10-25 16:55:32.199886: I tensorflow/core/profiler/lib/profiler_session.cc:131] Profiler session initializing.\n",
      "2021-10-25 16:55:32.199899: I tensorflow/core/profiler/lib/profiler_session.cc:146] Profiler session started.\n",
      "2021-10-25 16:55:32.200651: I tensorflow/core/profiler/lib/profiler_session.cc:164] Profiler session tear down.\n"
     ]
    }
   ],
   "source": [
    "TensorBoard = TensorBoard(log_dir=f'logs/{NAME}/')"
   ]
  },
  {
   "cell_type": "code",
   "execution_count": 4,
   "metadata": {},
   "outputs": [],
   "source": [
    "import pickle\n",
    "\n",
    "pickle_in = open(\"X.pickle\", \"rb\")\n",
    "X = pickle.load(pickle_in)\n",
    "pickle_in = open(\"y.pickle\", \"rb\")\n",
    "y = pickle.load(pickle_in)"
   ]
  },
  {
   "cell_type": "code",
   "execution_count": 5,
   "metadata": {},
   "outputs": [],
   "source": [
    "y = np.asarray(y) # in newer versions of tf, y can no longer be a list"
   ]
  },
  {
   "cell_type": "code",
   "execution_count": 6,
   "metadata": {},
   "outputs": [
    {
     "name": "stderr",
     "output_type": "stream",
     "text": [
      "2021-10-25 16:55:32.558257: I tensorflow/core/platform/cpu_feature_guard.cc:142] This TensorFlow binary is optimized with oneAPI Deep Neural Network Library (oneDNN) to use the following CPU instructions in performance-critical operations:  AVX2 FMA\n",
      "To enable them in other operations, rebuild TensorFlow with the appropriate compiler flags.\n",
      "2021-10-25 16:55:33.156067: I tensorflow/compiler/mlir/mlir_graph_optimization_pass.cc:185] None of the MLIR Optimization Passes are enabled (registered 2)\n"
     ]
    },
    {
     "name": "stdout",
     "output_type": "stream",
     "text": [
      "Epoch 1/3\n",
      "  4/702 [..............................] - ETA: 47s - loss: 0.7263 - accuracy: 0.4609"
     ]
    },
    {
     "name": "stderr",
     "output_type": "stream",
     "text": [
      "2021-10-25 16:55:33.696786: I tensorflow/core/profiler/lib/profiler_session.cc:131] Profiler session initializing.\n",
      "2021-10-25 16:55:33.696802: I tensorflow/core/profiler/lib/profiler_session.cc:146] Profiler session started.\n",
      "2021-10-25 16:55:33.753367: I tensorflow/core/profiler/lib/profiler_session.cc:66] Profiler session collecting data.\n",
      "2021-10-25 16:55:33.755004: I tensorflow/core/profiler/lib/profiler_session.cc:164] Profiler session tear down.\n",
      "2021-10-25 16:55:33.759550: I tensorflow/core/profiler/rpc/client/save_profile.cc:136] Creating directory: logs/Cats-vs-dog-cnn-64x2-1635195332/train/plugins/profile/2021_10_25_16_55_33\n",
      "\n",
      "2021-10-25 16:55:33.761153: I tensorflow/core/profiler/rpc/client/save_profile.cc:142] Dumped gzipped tool data for trace.json.gz to logs/Cats-vs-dog-cnn-64x2-1635195332/train/plugins/profile/2021_10_25_16_55_33/Benjamins-MBP.attlocal.net.trace.json.gz\n",
      "2021-10-25 16:55:33.764353: I tensorflow/core/profiler/rpc/client/save_profile.cc:136] Creating directory: logs/Cats-vs-dog-cnn-64x2-1635195332/train/plugins/profile/2021_10_25_16_55_33\n",
      "\n",
      "2021-10-25 16:55:33.764702: I tensorflow/core/profiler/rpc/client/save_profile.cc:142] Dumped gzipped tool data for memory_profile.json.gz to logs/Cats-vs-dog-cnn-64x2-1635195332/train/plugins/profile/2021_10_25_16_55_33/Benjamins-MBP.attlocal.net.memory_profile.json.gz\n",
      "2021-10-25 16:55:33.766030: I tensorflow/core/profiler/rpc/client/capture_profile.cc:251] Creating directory: logs/Cats-vs-dog-cnn-64x2-1635195332/train/plugins/profile/2021_10_25_16_55_33\n",
      "Dumped tool data for xplane.pb to logs/Cats-vs-dog-cnn-64x2-1635195332/train/plugins/profile/2021_10_25_16_55_33/Benjamins-MBP.attlocal.net.xplane.pb\n",
      "Dumped tool data for overview_page.pb to logs/Cats-vs-dog-cnn-64x2-1635195332/train/plugins/profile/2021_10_25_16_55_33/Benjamins-MBP.attlocal.net.overview_page.pb\n",
      "Dumped tool data for input_pipeline.pb to logs/Cats-vs-dog-cnn-64x2-1635195332/train/plugins/profile/2021_10_25_16_55_33/Benjamins-MBP.attlocal.net.input_pipeline.pb\n",
      "Dumped tool data for tensorflow_stats.pb to logs/Cats-vs-dog-cnn-64x2-1635195332/train/plugins/profile/2021_10_25_16_55_33/Benjamins-MBP.attlocal.net.tensorflow_stats.pb\n",
      "Dumped tool data for kernel_stats.pb to logs/Cats-vs-dog-cnn-64x2-1635195332/train/plugins/profile/2021_10_25_16_55_33/Benjamins-MBP.attlocal.net.kernel_stats.pb\n",
      "\n"
     ]
    },
    {
     "name": "stdout",
     "output_type": "stream",
     "text": [
      "702/702 [==============================] - 39s 55ms/step - loss: 0.6211 - accuracy: 0.6480 - val_loss: 0.5708 - val_accuracy: 0.7022\n",
      "Epoch 2/3\n",
      "702/702 [==============================] - 37s 52ms/step - loss: 0.5200 - accuracy: 0.7468 - val_loss: 0.5143 - val_accuracy: 0.7431\n",
      "Epoch 3/3\n",
      "702/702 [==============================] - 42s 59ms/step - loss: 0.4764 - accuracy: 0.7700 - val_loss: 0.5141 - val_accuracy: 0.7403\n"
     ]
    },
    {
     "data": {
      "text/plain": [
       "<keras.callbacks.History at 0x7f9e38a45400>"
      ]
     },
     "execution_count": 6,
     "metadata": {},
     "output_type": "execute_result"
    }
   ],
   "source": [
    "X = X/255.0 # need to scale data. Since we know the min and max of the image data, we can do this\n",
    "#X = tf.keras.utils.normalize(X)\n",
    "\n",
    "model = Sequential()\n",
    "model.add(Conv2D(64, (3,3),input_shape=X.shape[1:]))\n",
    "model.add(Activation(\"relu\"))\n",
    "model.add(MaxPool2D(pool_size=(2,2)))\n",
    "\n",
    "model.add(Conv2D(64, (3,3)))\n",
    "model.add(Activation(\"relu\"))\n",
    "model.add(MaxPool2D(pool_size=(2,2)))\n",
    "\n",
    "model.add(Flatten())\n",
    "model.add(Dense(64, activation='relu'))\n",
    "\n",
    "# output layer\n",
    "model.add(Dense(1))\n",
    "model.add(Activation('sigmoid'))\n",
    "\n",
    "model.compile(loss='binary_crossentropy', optimizer='adam',metrics=['accuracy']) # could also use categorical cross entropy\n",
    "\n",
    "model.fit(X,y,batch_size=32, validation_split=0.1, epochs = 3, callbacks =[TensorBoard])\n",
    "\n",
    "\n",
    "\n",
    "\n",
    "\n"
   ]
  }
 ],
 "metadata": {
  "interpreter": {
   "hash": "ab3ab66d9f1e7c94c773e7dac0689766de8a48491a3ae39497d60d2eb501f289"
  },
  "kernelspec": {
   "display_name": "Python 3.9.7 64-bit ('machine_learning': conda)",
   "name": "python3"
  },
  "language_info": {
   "codemirror_mode": {
    "name": "ipython",
    "version": 3
   },
   "file_extension": ".py",
   "mimetype": "text/x-python",
   "name": "python",
   "nbconvert_exporter": "python",
   "pygments_lexer": "ipython3",
   "version": "3.9.7"
  },
  "orig_nbformat": 4
 },
 "nbformat": 4,
 "nbformat_minor": 2
}
