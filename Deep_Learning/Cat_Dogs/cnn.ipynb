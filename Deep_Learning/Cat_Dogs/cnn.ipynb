{
 "cells": [
  {
   "cell_type": "code",
   "execution_count": 1,
   "metadata": {},
   "outputs": [],
   "source": [
    "import tensorflow as tf\n",
    "import numpy as np\n",
    "import time\n",
    "from tensorflow.keras.models import Sequential\n",
    "from tensorflow.keras.layers import Dense, Dropout, Activation, Flatten, Conv2D,MaxPool2D\n",
    "from tensorflow.keras.callbacks import TensorBoard"
   ]
  },
  {
   "cell_type": "code",
   "execution_count": 2,
   "metadata": {},
   "outputs": [
    {
     "name": "stdout",
     "output_type": "stream",
     "text": [
      "Cats-vs-dog-cnn-64x2-1635355393\n"
     ]
    },
    {
     "name": "stderr",
     "output_type": "stream",
     "text": [
      "2021-10-27 13:23:13.162881: I tensorflow/core/profiler/lib/profiler_session.cc:131] Profiler session initializing.\n",
      "2021-10-27 13:23:13.162917: I tensorflow/core/profiler/lib/profiler_session.cc:146] Profiler session started.\n",
      "2021-10-27 13:23:13.163463: I tensorflow/core/profiler/lib/profiler_session.cc:164] Profiler session tear down.\n"
     ]
    }
   ],
   "source": [
    "NAME = f\"Cats-vs-dog-cnn-64x2-{int(time.time())}\"\n",
    "print(NAME)\n",
    "TensorBoard = TensorBoard(log_dir=f'logs/{NAME}')"
   ]
  },
  {
   "cell_type": "code",
   "execution_count": 3,
   "metadata": {},
   "outputs": [],
   "source": [
    "import pickle\n",
    "\n",
    "pickle_in = open(\"X.pickle\", \"rb\")\n",
    "X = pickle.load(pickle_in)\n",
    "pickle_in = open(\"y.pickle\", \"rb\")\n",
    "y = pickle.load(pickle_in)"
   ]
  },
  {
   "cell_type": "code",
   "execution_count": 4,
   "metadata": {},
   "outputs": [],
   "source": [
    "y = np.asarray(y) # in newer versions of tf, y can no longer be a list"
   ]
  },
  {
   "cell_type": "code",
   "execution_count": 5,
   "metadata": {},
   "outputs": [
    {
     "name": "stderr",
     "output_type": "stream",
     "text": [
      "2021-10-27 13:23:13.567068: I tensorflow/core/platform/cpu_feature_guard.cc:142] This TensorFlow binary is optimized with oneAPI Deep Neural Network Library (oneDNN) to use the following CPU instructions in performance-critical operations:  AVX2 FMA\n",
      "To enable them in other operations, rebuild TensorFlow with the appropriate compiler flags.\n",
      "2021-10-27 13:23:14.139922: I tensorflow/compiler/mlir/mlir_graph_optimization_pass.cc:185] None of the MLIR Optimization Passes are enabled (registered 2)\n"
     ]
    },
    {
     "name": "stdout",
     "output_type": "stream",
     "text": [
      "Epoch 1/10\n",
      "  4/702 [..............................] - ETA: 44s - loss: 0.6867 - accuracy: 0.5703"
     ]
    },
    {
     "name": "stderr",
     "output_type": "stream",
     "text": [
      "2021-10-27 13:23:14.716137: I tensorflow/core/profiler/lib/profiler_session.cc:131] Profiler session initializing.\n",
      "2021-10-27 13:23:14.716153: I tensorflow/core/profiler/lib/profiler_session.cc:146] Profiler session started.\n",
      "2021-10-27 13:23:14.770226: I tensorflow/core/profiler/lib/profiler_session.cc:66] Profiler session collecting data.\n",
      "2021-10-27 13:23:14.771886: I tensorflow/core/profiler/lib/profiler_session.cc:164] Profiler session tear down.\n",
      "2021-10-27 13:23:14.776589: I tensorflow/core/profiler/rpc/client/save_profile.cc:136] Creating directory: logs/Cats-vs-dog-cnn-64x2-1635355393/train/plugins/profile/2021_10_27_13_23_14\n",
      "\n",
      "2021-10-27 13:23:14.777833: I tensorflow/core/profiler/rpc/client/save_profile.cc:142] Dumped gzipped tool data for trace.json.gz to logs/Cats-vs-dog-cnn-64x2-1635355393/train/plugins/profile/2021_10_27_13_23_14/Benjamins-MBP.attlocal.net.trace.json.gz\n",
      "2021-10-27 13:23:14.781132: I tensorflow/core/profiler/rpc/client/save_profile.cc:136] Creating directory: logs/Cats-vs-dog-cnn-64x2-1635355393/train/plugins/profile/2021_10_27_13_23_14\n",
      "\n",
      "2021-10-27 13:23:14.781485: I tensorflow/core/profiler/rpc/client/save_profile.cc:142] Dumped gzipped tool data for memory_profile.json.gz to logs/Cats-vs-dog-cnn-64x2-1635355393/train/plugins/profile/2021_10_27_13_23_14/Benjamins-MBP.attlocal.net.memory_profile.json.gz\n",
      "2021-10-27 13:23:14.783290: I tensorflow/core/profiler/rpc/client/capture_profile.cc:251] Creating directory: logs/Cats-vs-dog-cnn-64x2-1635355393/train/plugins/profile/2021_10_27_13_23_14\n",
      "Dumped tool data for xplane.pb to logs/Cats-vs-dog-cnn-64x2-1635355393/train/plugins/profile/2021_10_27_13_23_14/Benjamins-MBP.attlocal.net.xplane.pb\n",
      "Dumped tool data for overview_page.pb to logs/Cats-vs-dog-cnn-64x2-1635355393/train/plugins/profile/2021_10_27_13_23_14/Benjamins-MBP.attlocal.net.overview_page.pb\n",
      "Dumped tool data for input_pipeline.pb to logs/Cats-vs-dog-cnn-64x2-1635355393/train/plugins/profile/2021_10_27_13_23_14/Benjamins-MBP.attlocal.net.input_pipeline.pb\n",
      "Dumped tool data for tensorflow_stats.pb to logs/Cats-vs-dog-cnn-64x2-1635355393/train/plugins/profile/2021_10_27_13_23_14/Benjamins-MBP.attlocal.net.tensorflow_stats.pb\n",
      "Dumped tool data for kernel_stats.pb to logs/Cats-vs-dog-cnn-64x2-1635355393/train/plugins/profile/2021_10_27_13_23_14/Benjamins-MBP.attlocal.net.kernel_stats.pb\n",
      "\n"
     ]
    },
    {
     "name": "stdout",
     "output_type": "stream",
     "text": [
      "702/702 [==============================] - 40s 56ms/step - loss: 0.6397 - accuracy: 0.6171 - val_loss: 0.5415 - val_accuracy: 0.7202\n",
      "Epoch 2/10\n",
      "702/702 [==============================] - 41s 59ms/step - loss: 0.5225 - accuracy: 0.7416 - val_loss: 0.5106 - val_accuracy: 0.7471\n",
      "Epoch 3/10\n",
      "702/702 [==============================] - 45s 64ms/step - loss: 0.4751 - accuracy: 0.7742 - val_loss: 0.5456 - val_accuracy: 0.7295\n",
      "Epoch 4/10\n",
      "702/702 [==============================] - 44s 62ms/step - loss: 0.4372 - accuracy: 0.7971 - val_loss: 0.5221 - val_accuracy: 0.7519\n",
      "Epoch 5/10\n",
      "702/702 [==============================] - 44s 63ms/step - loss: 0.4156 - accuracy: 0.8084 - val_loss: 0.4804 - val_accuracy: 0.7735\n",
      "Epoch 6/10\n",
      "702/702 [==============================] - 46s 65ms/step - loss: 0.3889 - accuracy: 0.8231 - val_loss: 0.4404 - val_accuracy: 0.7972\n",
      "Epoch 7/10\n",
      "702/702 [==============================] - 46s 65ms/step - loss: 0.3688 - accuracy: 0.8332 - val_loss: 0.4508 - val_accuracy: 0.7940\n",
      "Epoch 8/10\n",
      "702/702 [==============================] - 44s 63ms/step - loss: 0.3407 - accuracy: 0.8502 - val_loss: 0.4269 - val_accuracy: 0.8048\n",
      "Epoch 9/10\n",
      "702/702 [==============================] - 43s 61ms/step - loss: 0.3222 - accuracy: 0.8575 - val_loss: 0.4308 - val_accuracy: 0.8012\n",
      "Epoch 10/10\n",
      "702/702 [==============================] - 46s 65ms/step - loss: 0.3031 - accuracy: 0.8681 - val_loss: 0.4917 - val_accuracy: 0.7824\n"
     ]
    }
   ],
   "source": [
    "X = X/255.0 # need to scale data. Since we know the min and max of the image data, we can do this\n",
    "#X = tf.keras.utils.normalize(X)\n",
    "\n",
    "dense_layers = [0]\n",
    "layer_sizes = [64]\n",
    "conv_layers = [3]\n",
    "\n",
    "for dense_layer in dense_layers:\n",
    "    for layer_size in layer_sizes:\n",
    "        for conv_layer in conv_layers:\n",
    "            \n",
    "            model = Sequential()\n",
    "            model.add(Conv2D(64, (3,3),input_shape=X.shape[1:]))\n",
    "            model.add(Activation(\"relu\"))\n",
    "            model.add(MaxPool2D(pool_size=(2,2)))\n",
    "\n",
    "            for l in range(conv_layer-1):\n",
    "                model.add(Conv2D(64, (3,3)))\n",
    "                model.add(Activation(\"relu\"))\n",
    "                model.add(MaxPool2D(pool_size=(2,2)))\n",
    "\n",
    "            model.add(Flatten())\n",
    "            #model.add(Dense(64, activation='relu'))\n",
    "\n",
    "            for _ in range(dense_layer):\n",
    "                model.add(Dense(layer_size, activation='relu'))\n",
    "\n",
    "            # output layer\n",
    "            model.add(Dense(1))\n",
    "            model.add(Activation('sigmoid'))\n",
    "\n",
    "            model.compile(loss='binary_crossentropy', optimizer='adam',metrics=['accuracy']) # could also use categorical cross entropy\n",
    "\n",
    "            model.fit(X,y,batch_size=32, validation_split=0.1, epochs = 10, callbacks =[TensorBoard])\n",
    "\n",
    "\n",
    "\n",
    "\n",
    "\n"
   ]
  },
  {
   "cell_type": "code",
   "execution_count": 6,
   "metadata": {},
   "outputs": [
    {
     "name": "stderr",
     "output_type": "stream",
     "text": [
      "2021-10-27 13:30:33.852275: W tensorflow/python/util/util.cc:348] Sets are not currently considered sequences, but this may change in the future, so consider avoiding using them.\n"
     ]
    },
    {
     "name": "stdout",
     "output_type": "stream",
     "text": [
      "INFO:tensorflow:Assets written to: 64x3-CNN.model/assets\n"
     ]
    }
   ],
   "source": [
    "model.save('64x3-CNN.model')"
   ]
  },
  {
   "cell_type": "markdown",
   "metadata": {},
   "source": [
    "- If interested in ways to optimize with tensorbaord visit: https://www.youtube.com/watch?v=lV09_8432VA&list=PLQVvvaa0QuDfhTox0AjmQ6tvTgMBZBEXN&index=5\n",
    "  - Way too taxing on my cpu\n",
    "- Read about eager execution"
   ]
  },
  {
   "cell_type": "code",
   "execution_count": 7,
   "metadata": {},
   "outputs": [
    {
     "data": {
      "text/html": [
       "\n",
       "      <iframe id=\"tensorboard-frame-e16f8959db993340\" width=\"100%\" height=\"800\" frameborder=\"0\">\n",
       "      </iframe>\n",
       "      <script>\n",
       "        (function() {\n",
       "          const frame = document.getElementById(\"tensorboard-frame-e16f8959db993340\");\n",
       "          const url = new URL(\"/\", window.location);\n",
       "          const port = 8888;\n",
       "          if (port) {\n",
       "            url.port = port;\n",
       "          }\n",
       "          frame.src = url;\n",
       "        })();\n",
       "      </script>\n",
       "    "
      ],
      "text/plain": [
       "<IPython.core.display.HTML object>"
      ]
     },
     "metadata": {},
     "output_type": "display_data"
    }
   ],
   "source": [
    "%load_ext tensorboard\n",
    "%tensorboard --logdir logs/ --host localhost --port 8888\n"
   ]
  }
 ],
 "metadata": {
  "interpreter": {
   "hash": "ab3ab66d9f1e7c94c773e7dac0689766de8a48491a3ae39497d60d2eb501f289"
  },
  "kernelspec": {
   "display_name": "Python 3.9.7 64-bit ('machine_learning': conda)",
   "name": "python3"
  },
  "language_info": {
   "codemirror_mode": {
    "name": "ipython",
    "version": 3
   },
   "file_extension": ".py",
   "mimetype": "text/x-python",
   "name": "python",
   "nbconvert_exporter": "python",
   "pygments_lexer": "ipython3",
   "version": "3.9.7"
  },
  "orig_nbformat": 4
 },
 "nbformat": 4,
 "nbformat_minor": 2
}
